{
  "nbformat": 4,
  "nbformat_minor": 0,
  "metadata": {
    "colab": {
      "name": "Digit Classification",
      "provenance": [],
      "collapsed_sections": []
    },
    "kernelspec": {
      "name": "python3",
      "display_name": "Python 3"
    },
    "language_info": {
      "name": "python"
    }
  },
  "cells": [
    {
      "cell_type": "code",
      "metadata": {
        "id": "kEvKuI408yVi"
      },
      "source": [
        "import tensorflow as tf\n",
        "from tensorflow import keras\n",
        "import matplotlib.pyplot as plt\n",
        "%matplotlib inline\n",
        "import numpy as np\n",
        "import pandas as pd\n",
        "import seaborn as sns"
      ],
      "execution_count": null,
      "outputs": []
    },
    {
      "cell_type": "code",
      "metadata": {
        "id": "IOubNBLP-N9t"
      },
      "source": [
        "(X_train, y_train) , (X_test, y_test) = keras.datasets.mnist.load_data()"
      ],
      "execution_count": null,
      "outputs": []
    },
    {
      "cell_type": "code",
      "metadata": {
        "colab": {
          "base_uri": "https://localhost:8080/"
        },
        "id": "QVweZj7B-ZSt",
        "outputId": "61199900-eaca-468b-d621-cb2d63752e11"
      },
      "source": [
        "len(X_train)"
      ],
      "execution_count": null,
      "outputs": [
        {
          "output_type": "execute_result",
          "data": {
            "text/plain": [
              "60000"
            ]
          },
          "metadata": {
            "tags": []
          },
          "execution_count": 142
        }
      ]
    },
    {
      "cell_type": "code",
      "metadata": {
        "colab": {
          "base_uri": "https://localhost:8080/"
        },
        "id": "Dkpo-_7X-dCk",
        "outputId": "577f42d4-bb7c-4109-af23-7668aae52604"
      },
      "source": [
        "len(X_test)"
      ],
      "execution_count": null,
      "outputs": [
        {
          "output_type": "execute_result",
          "data": {
            "text/plain": [
              "10000"
            ]
          },
          "metadata": {
            "tags": []
          },
          "execution_count": 143
        }
      ]
    },
    {
      "cell_type": "code",
      "metadata": {
        "colab": {
          "base_uri": "https://localhost:8080/"
        },
        "id": "avT9EL40-ftb",
        "outputId": "8dd01f7f-14b7-4127-e9b3-7db36b976e22"
      },
      "source": [
        "X_train.shape"
      ],
      "execution_count": null,
      "outputs": [
        {
          "output_type": "execute_result",
          "data": {
            "text/plain": [
              "(60000, 28, 28)"
            ]
          },
          "metadata": {
            "tags": []
          },
          "execution_count": 144
        }
      ]
    },
    {
      "cell_type": "code",
      "metadata": {
        "colab": {
          "base_uri": "https://localhost:8080/"
        },
        "id": "vYNIbxUjYfbg",
        "outputId": "663cd9ca-7ec1-460c-93c4-79edb8540352"
      },
      "source": [
        "y_train.shape"
      ],
      "execution_count": null,
      "outputs": [
        {
          "output_type": "execute_result",
          "data": {
            "text/plain": [
              "(60000,)"
            ]
          },
          "metadata": {
            "tags": []
          },
          "execution_count": 145
        }
      ]
    },
    {
      "cell_type": "code",
      "metadata": {
        "colab": {
          "base_uri": "https://localhost:8080/",
          "height": 282
        },
        "id": "pZwmd8Jg_WQY",
        "outputId": "b7e934d1-70ef-4ab4-e8e5-50be8808cb07"
      },
      "source": [
        "plt.imshow(X_train[0])"
      ],
      "execution_count": null,
      "outputs": [
        {
          "output_type": "execute_result",
          "data": {
            "text/plain": [
              "<matplotlib.image.AxesImage at 0x7fb4fe44f210>"
            ]
          },
          "metadata": {
            "tags": []
          },
          "execution_count": 146
        },
        {
          "output_type": "display_data",
          "data": {
            "image/png": "[encoded data removed]",
            "text/plain": [
              "<Figure size 432x288 with 1 Axes>"
            ]
          },
          "metadata": {
            "tags": [],
            "needs_background": "light"
          }
        }
      ]
    },
    {
      "cell_type": "code",
      "metadata": {
        "colab": {
          "base_uri": "https://localhost:8080/",
          "height": 338
        },
        "id": "P3OA4ptcm8Ds",
        "outputId": "f586e1a2-6320-42ef-aa2c-a5fabe771665"
      },
      "source": [
        "sns.countplot(y_train)"
      ],
      "execution_count": null,
      "outputs": [
        {
          "output_type": "stream",
          "text": [
            "/usr/local/lib/python3.7/dist-packages/seaborn/_decorators.py:43: FutureWarning: Pass the following variable as a keyword arg: x. From version 0.12, the only valid positional argument will be `data`, and passing other arguments without an explicit keyword will result in an error or misinterpretation.\n",
            "  FutureWarning\n"
          ],
          "name": "stderr"
        },
        {
          "output_type": "execute_result",
          "data": {
            "text/plain": [
              "<matplotlib.axes._subplots.AxesSubplot at 0x7fb4fe40c210>"
            ]
          },
          "metadata": {
            "tags": []
          },
          "execution_count": 147
        },
        {
          "output_type": "display_data",
          "data": {
            "image/png": "[encoded data removed]",
            "text/plain": [
              "<Figure size 432x288 with 1 Axes>"
            ]
          },
          "metadata": {
            "tags": [],
            "needs_background": "light"
          }
        }
      ]
    },
    {
      "cell_type": "markdown",
      "metadata": {
        "id": "Eqgctnk7KEbT"
      },
      "source": [
        "Normalization"
      ]
    },
    {
      "cell_type": "code",
      "metadata": {
        "id": "mS1yiRIxAuAP"
      },
      "source": [
        "X_train=X_train/255\n",
        "X_test=X_test/255"
      ],
      "execution_count": null,
      "outputs": []
    },
    {
      "cell_type": "markdown",
      "metadata": {
        "id": "iDF1KrBaKGg5"
      },
      "source": [
        "Reshaping"
      ]
    },
    {
      "cell_type": "code",
      "metadata": {
        "colab": {
          "base_uri": "https://localhost:8080/"
        },
        "id": "nj8l7-iotbW3",
        "outputId": "2f3848a0-1704-4c1f-b345-f2341e7d7ad8"
      },
      "source": [
        "X_train=X_train.reshape(-1,28,28,1)\n",
        "X_train.shape"
      ],
      "execution_count": null,
      "outputs": [
        {
          "output_type": "execute_result",
          "data": {
            "text/plain": [
              "(60000, 28, 28, 1)"
            ]
          },
          "metadata": {
            "tags": []
          },
          "execution_count": 149
        }
      ]
    },
    {
      "cell_type": "markdown",
      "metadata": {
        "id": "zRX7EFrmKJ3w"
      },
      "source": [
        "Converting to One Hot Encoding"
      ]
    },
    {
      "cell_type": "code",
      "metadata": {
        "id": "WM7T7WENmwhV"
      },
      "source": [
        "from keras.utils.np_utils import to_categorical\n",
        "y_train = to_categorical(y_train, num_classes = 10)"
      ],
      "execution_count": null,
      "outputs": []
    },
    {
      "cell_type": "code",
      "metadata": {
        "colab": {
          "base_uri": "https://localhost:8080/"
        },
        "id": "EXfN9IQWnamz",
        "outputId": "7b215f9e-1839-411d-87c0-9358d93ced57"
      },
      "source": [
        "y_train.shape"
      ],
      "execution_count": null,
      "outputs": [
        {
          "output_type": "execute_result",
          "data": {
            "text/plain": [
              "(60000, 10)"
            ]
          },
          "metadata": {
            "tags": []
          },
          "execution_count": 151
        }
      ]
    },
    {
      "cell_type": "markdown",
      "metadata": {
        "id": "xq7D4KZRKRLI"
      },
      "source": [
        "Splitting Train and Validation Data"
      ]
    },
    {
      "cell_type": "code",
      "metadata": {
        "colab": {
          "base_uri": "https://localhost:8080/"
        },
        "id": "0vM4fIY8ZC15",
        "outputId": "0c69216e-f5bb-47df-85ff-ff2791fde027"
      },
      "source": [
        "from sklearn.model_selection import train_test_split\n",
        "X_train, X_val, y_train, y_val = train_test_split(X_train, y_train, test_size = 0.1, random_state=0)\n",
        "print(X_train.shape)\n",
        "print(y_train.shape)\n",
        "print(X_val.shape)\n",
        "print(y_val.shape)"
      ],
      "execution_count": null,
      "outputs": [
        {
          "output_type": "stream",
          "text": [
            "(54000, 28, 28, 1)\n",
            "(54000, 10)\n",
            "(6000, 28, 28, 1)\n",
            "(6000, 10)\n"
          ],
          "name": "stdout"
        }
      ]
    },
    {
      "cell_type": "markdown",
      "metadata": {
        "id": "XHuOjJdQKWFg"
      },
      "source": [
        "Applying CNN"
      ]
    },
    {
      "cell_type": "code",
      "metadata": {
        "id": "i90aPuOfn6l8"
      },
      "source": [
        "from keras.models import Sequential\n",
        "from keras.layers import Dense,Flatten,Conv2D,MaxPool2D,Dropout\n",
        "from keras.preprocessing.image import ImageDataGenerator"
      ],
      "execution_count": null,
      "outputs": []
    },
    {
      "cell_type": "code",
      "metadata": {
        "id": "xcDnSF8Zoh5G"
      },
      "source": [
        "model=Sequential()\n",
        "model.add(Conv2D(16,(3,3),activation='relu',input_shape=(28,28,1)))\n",
        "model.add(MaxPool2D((2,2)))\n",
        "model.add(Dropout(0.2))\n",
        "model.add(Conv2D(filters=32,kernel_size=(3,3),padding='same',activation='relu'))\n",
        "model.add(MaxPool2D((2,2)))\n",
        "model.add(Dropout(0.2))\n",
        "model.add(Flatten())\n",
        "model.add(Dense(64,activation='relu'))\n",
        "model.add(Dense(10,activation='softmax'))"
      ],
      "execution_count": null,
      "outputs": []
    },
    {
      "cell_type": "code",
      "metadata": {
        "colab": {
          "base_uri": "https://localhost:8080/"
        },
        "id": "MsByxL3guk3m",
        "outputId": "08627f4d-4dcd-45b7-ad44-fe98d1359228"
      },
      "source": [
        "model.summary()"
      ],
      "execution_count": null,
      "outputs": [
        {
          "output_type": "stream",
          "text": [
            "Model: \"sequential_3\"\n",
            "_________________________________________________________________\n",
            "Layer (type)                 Output Shape              Param #   \n",
            "=================================================================\n",
            "conv2d_6 (Conv2D)            (None, 26, 26, 16)        160       \n",
            "_________________________________________________________________\n",
            "max_pooling2d_6 (MaxPooling2 (None, 13, 13, 16)        0         \n",
            "_________________________________________________________________\n",
            "dropout_6 (Dropout)          (None, 13, 13, 16)        0         \n",
            "_________________________________________________________________\n",
            "conv2d_7 (Conv2D)            (None, 13, 13, 32)        4640      \n",
            "_________________________________________________________________\n",
            "max_pooling2d_7 (MaxPooling2 (None, 6, 6, 32)          0         \n",
            "_________________________________________________________________\n",
            "dropout_7 (Dropout)          (None, 6, 6, 32)          0         \n",
            "_________________________________________________________________\n",
            "flatten_3 (Flatten)          (None, 1152)              0         \n",
            "_________________________________________________________________\n",
            "dense_6 (Dense)              (None, 64)                73792     \n",
            "_________________________________________________________________\n",
            "dense_7 (Dense)              (None, 10)                650       \n",
            "=================================================================\n",
            "Total params: 79,242\n",
            "Trainable params: 79,242\n",
            "Non-trainable params: 0\n",
            "_________________________________________________________________\n"
          ],
          "name": "stdout"
        }
      ]
    },
    {
      "cell_type": "markdown",
      "metadata": {
        "id": "WadaiaKgKZty"
      },
      "source": [
        "Using Data Augmentation "
      ]
    },
    {
      "cell_type": "code",
      "metadata": {
        "id": "PiprbwSRBN-U"
      },
      "source": [
        "dataaug=ImageDataGenerator( \n",
        "        rotation_range=10,  \n",
        "        zoom_range = 0.1, \n",
        "        width_shift_range=0.1, \n",
        "        height_shift_range=0.1,  \n",
        "        horizontal_flip=False,  \n",
        "        vertical_flip=False\n",
        ") "
      ],
      "execution_count": null,
      "outputs": []
    },
    {
      "cell_type": "code",
      "metadata": {
        "id": "5Kwi-4poBPEs"
      },
      "source": [
        "dataaug.fit(X_train)"
      ],
      "execution_count": null,
      "outputs": []
    },
    {
      "cell_type": "code",
      "metadata": {
        "colab": {
          "base_uri": "https://localhost:8080/"
        },
        "id": "mh5i2Q-Qu5DN",
        "outputId": "3b475656-7758-4b63-8b5e-b504d8d84801"
      },
      "source": [
        "model.compile(optimizer='adam',loss='categorical_crossentropy',metrics='accuracy')\n",
        "history1=model.fit_generator(dataaug.flow(X_train,y_train),steps_per_epoch=108,epochs=10,validation_data=(X_val,y_val))"
      ],
      "execution_count": null,
      "outputs": [
        {
          "output_type": "stream",
          "text": [
            "/usr/local/lib/python3.7/dist-packages/tensorflow/python/keras/engine/training.py:1844: UserWarning: `Model.fit_generator` is deprecated and will be removed in a future version. Please use `Model.fit`, which supports generators.\n",
            "  warnings.warn('`Model.fit_generator` is deprecated and '\n"
          ],
          "name": "stderr"
        },
        {
          "output_type": "stream",
          "text": [
            "Epoch 1/10\n",
            "108/108 [==============================] - 5s 43ms/step - loss: 0.2571 - accuracy: 0.9204 - val_loss: 0.0964 - val_accuracy: 0.9693\n",
            "Epoch 2/10\n",
            "108/108 [==============================] - 4s 41ms/step - loss: 0.2166 - accuracy: 0.9335 - val_loss: 0.0905 - val_accuracy: 0.9710\n",
            "Epoch 3/10\n",
            "108/108 [==============================] - 5s 42ms/step - loss: 0.1935 - accuracy: 0.9406 - val_loss: 0.0794 - val_accuracy: 0.9742\n",
            "Epoch 4/10\n",
            "108/108 [==============================] - 5s 42ms/step - loss: 0.1864 - accuracy: 0.9379 - val_loss: 0.0699 - val_accuracy: 0.9758\n",
            "Epoch 5/10\n",
            "108/108 [==============================] - 5s 42ms/step - loss: 0.2013 - accuracy: 0.9363 - val_loss: 0.0721 - val_accuracy: 0.9783\n",
            "Epoch 6/10\n",
            "108/108 [==============================] - 4s 42ms/step - loss: 0.2012 - accuracy: 0.9403 - val_loss: 0.0659 - val_accuracy: 0.9790\n",
            "Epoch 7/10\n",
            "108/108 [==============================] - 4s 41ms/step - loss: 0.1725 - accuracy: 0.9496 - val_loss: 0.0668 - val_accuracy: 0.9782\n",
            "Epoch 8/10\n",
            "108/108 [==============================] - 5s 42ms/step - loss: 0.1617 - accuracy: 0.9505 - val_loss: 0.0749 - val_accuracy: 0.9747\n",
            "Epoch 9/10\n",
            "108/108 [==============================] - 4s 41ms/step - loss: 0.1816 - accuracy: 0.9456 - val_loss: 0.0621 - val_accuracy: 0.9812\n",
            "Epoch 10/10\n",
            "108/108 [==============================] - 4s 41ms/step - loss: 0.1529 - accuracy: 0.9566 - val_loss: 0.0575 - val_accuracy: 0.9825\n"
          ],
          "name": "stdout"
        }
      ]
    },
    {
      "cell_type": "markdown",
      "metadata": {
        "id": "sTj2EVeoKeO5"
      },
      "source": [
        "Visualization of Results"
      ]
    },
    {
      "cell_type": "code",
      "metadata": {
        "colab": {
          "base_uri": "https://localhost:8080/",
          "height": 312
        },
        "id": "a62eP5wAc0f5",
        "outputId": "86ef638f-6738-46cf-c7bb-4c64b9fff899"
      },
      "source": [
        "plt.plot(history.history['loss'],color='b',label='Training Loss')\n",
        "plt.plot(history.history['val_loss'],color='r',label='Validation Loss')\n",
        "plt.title('Training and Validation Loss')\n",
        "plt.xlabel('Number of Epochs')\n",
        "plt.ylabel('Loss')\n",
        "plt.legend()"
      ],
      "execution_count": null,
      "outputs": [
        {
          "output_type": "execute_result",
          "data": {
            "text/plain": [
              "<matplotlib.legend.Legend at 0x7fb4f8ca5fd0>"
            ]
          },
          "metadata": {
            "tags": []
          },
          "execution_count": 164
        },
        {
          "output_type": "display_data",
          "data": {
            "image/png": "[encoded data removed]",
            "text/plain": [
              "<Figure size 432x288 with 1 Axes>"
            ]
          },
          "metadata": {
            "tags": [],
            "needs_background": "light"
          }
        }
      ]
    },
    {
      "cell_type": "code",
      "metadata": {
        "colab": {
          "base_uri": "https://localhost:8080/",
          "height": 312
        },
        "id": "gArsWpFPlL3u",
        "outputId": "885236ae-40bf-4c4f-bad0-da9c5e6dd55e"
      },
      "source": [
        "plt.plot(history.history['accuracy'],color='b',label='Training Accuracy')\n",
        "plt.plot(history.history['val_accuracy'],color='r',label='Validation Accuracy')\n",
        "plt.title('Training and Validation Loss')\n",
        "plt.xlabel('Number of Epochs')\n",
        "plt.ylabel('Loss')\n",
        "plt.legend()"
      ],
      "execution_count": null,
      "outputs": [
        {
          "output_type": "execute_result",
          "data": {
            "text/plain": [
              "<matplotlib.legend.Legend at 0x7fb4f9d39c90>"
            ]
          },
          "metadata": {
            "tags": []
          },
          "execution_count": 165
        },
        {
          "output_type": "display_data",
          "data": {
            "image/png": "[encoded data removed]",
            "text/plain": [
              "<Figure size 432x288 with 1 Axes>"
            ]
          },
          "metadata": {
            "tags": [],
            "needs_background": "light"
          }
        }
      ]
    },
    {
      "cell_type": "code",
      "metadata": {
        "colab": {
          "base_uri": "https://localhost:8080/"
        },
        "id": "T3mLmn_GB1r8",
        "outputId": "d8dd6e62-9cf8-4b89-f8f0-a8b382195893"
      },
      "source": [
        "from sklearn.metrics import confusion_matrix\n",
        "y_pred=model.predict(X_val)\n",
        "y_pred_num=np.argmax(y_pred,axis=1)\n",
        "y_correct=np.argmax(y_val,axis=1)\n",
        "cm=confusion_matrix(y_correct,y_pred_num)\n",
        "print(cm)"
      ],
      "execution_count": null,
      "outputs": [
        {
          "output_type": "stream",
          "text": [
            "[[601   0   1   0   0   0   1   0   0   2]\n",
            " [  0 681   2   3   1   0   0   1   0   0]\n",
            " [  1   0 576   4   0   0   0   3   2   0]\n",
            " [  0   2   4 571   0   1   0   2   3   0]\n",
            " [  0   0   1   0 557   0   0   0   0   7]\n",
            " [  0   0   0   2   0 509   3   0   3   1]\n",
            " [  1   1   0   0   2   6 617   0   4   0]\n",
            " [  0   0   4   2   0   0   0 612   2   5]\n",
            " [  3   0   0   1   1   2   1   0 573   3]\n",
            " [  0   0   0   1   5   3   0   4   4 598]]\n"
          ],
          "name": "stdout"
        }
      ]
    },
    {
      "cell_type": "code",
      "metadata": {
        "colab": {
          "base_uri": "https://localhost:8080/",
          "height": 514
        },
        "id": "ByWJpkCpG9ug",
        "outputId": "909c8504-c91a-446c-9a07-18fc9e53c738"
      },
      "source": [
        "plt.figure(figsize=(12,8))\n",
        "sns.heatmap(cm,annot=True,cmap='Blues',fmt='g')\n",
        "plt.xlabel('Predicted Digit')\n",
        "plt.ylabel('True Digit')"
      ],
      "execution_count": null,
      "outputs": [
        {
          "output_type": "execute_result",
          "data": {
            "text/plain": [
              "Text(87.0, 0.5, 'True Digit')"
            ]
          },
          "metadata": {
            "tags": []
          },
          "execution_count": 167
        },
        {
          "output_type": "display_data",
          "data": {
            "image/png": "[encoded data removed]",
            "text/plain": [
              "<Figure size 864x576 with 2 Axes>"
            ]
          },
          "metadata": {
            "tags": [],
            "needs_background": "light"
          }
        }
      ]
    }
  ]
}